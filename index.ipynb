{
 "cells": [
  {
   "cell_type": "markdown",
   "metadata": {
    "hide_input": false
   },
   "source": [
    "# Innledning"
   ]
  },
  {
   "cell_type": "code",
   "execution_count": null,
   "metadata": {
    "collapsed": true
   },
   "outputs": [],
   "source": [
    "# https://stackoverflow.com/questions/31818127/can-a-jupyter-ipython-notebook-take-arguments-in-the-url"
   ]
  },
  {
   "cell_type": "code",
   "execution_count": null,
   "metadata": {
    "collapsed": true,
    "hide_input": true
   },
   "outputs": [],
   "source": [
    "%%javascript\n",
    "IPython.notebook.kernel.execute(\"nbURL = '\" + window.location + \"'\");\n",
    "IPython.notebook.kernel.execute(\"nbReferrer= '\" + document.referrer + \"'\");"
   ]
  },
  {
   "cell_type": "code",
   "execution_count": null,
   "metadata": {
    "collapsed": true,
    "hide_input": true
   },
   "outputs": [],
   "source": [
    "# Parse nbURL to get arguments passed with GET\n",
    "print(nbURL)\n",
    "print(nbReferrer)"
   ]
  },
  {
   "cell_type": "code",
   "execution_count": 1,
   "metadata": {
    "hide_input": true,
    "init_cell": true,
    "scrolled": false
   },
   "outputs": [
    {
     "data": {
      "text/html": [
       "<h2>VIDEO: Normalfordelinger og sentralgrenseteoremet</h2>\n",
       "<p><iframe name=\"videoPlayer\" allowfullscreen=\"1\" frameborder=\"0\" height=\"315\" src=\"//www.youtube.com/embed/fb7XIfc3Hb8?rel=0&amp;wmode=transparent\" width=\"560\"></iframe></p>\n",
       "<ul>\n",
       "  <li><a href=\"//www.youtube.com/embed/fb7XIfc3Hb8?rel=0&amp;wmode=transparent&autoplay=1\" target=\"videoPlayer\">VIDEO: Standard normalfordeling</a></li>\n",
       "  <li><a href=\"//www.youtube.com/embed/Rhk-EJ2YZtY?rel=0&amp;wmode=transparent&autoplay=1\" target=\"videoPlayer\">VIDEO: Normalfordelinger og sentralgrenseteoremet</a></li>\n",
       "</ul>"
      ],
      "text/plain": [
       "<IPython.core.display.HTML object>"
      ]
     },
     "metadata": {},
     "output_type": "display_data"
    }
   ],
   "source": [
    "%%html\n",
    "<h2>VIDEO: Normalfordelinger og sentralgrenseteoremet</h2>\n",
    "<p><iframe name=\"videoPlayer\" allowfullscreen=\"1\" frameborder=\"0\" height=\"315\" src=\"//www.youtube.com/embed/fb7XIfc3Hb8?rel=0&amp;wmode=transparent\" width=\"560\"></iframe></p>\n",
    "<ul>\n",
    "  <li><a href=\"//www.youtube.com/embed/fb7XIfc3Hb8?rel=0&amp;wmode=transparent&autoplay=1\" target=\"videoPlayer\">VIDEO: Standard normalfordeling</a></li>\n",
    "  <li><a href=\"//www.youtube.com/embed/Rhk-EJ2YZtY?rel=0&amp;wmode=transparent&autoplay=1\" target=\"videoPlayer\">VIDEO: Normalfordelinger og sentralgrenseteoremet</a></li>\n",
    "</ul>"
   ]
  },
  {
   "cell_type": "markdown",
   "metadata": {},
   "source": [
    "# Interaktive eksempler"
   ]
  },
  {
   "cell_type": "code",
   "execution_count": 2,
   "metadata": {
    "collapsed": true,
    "hide_input": true,
    "init_cell": true
   },
   "outputs": [],
   "source": [
    "import matplotlib.pyplot as plt\n",
    "import numpy as np\n",
    "from ipywidgets import interact\n",
    "from ipywidgets.widgets import FloatSlider, Dropdown, fixed \n",
    "plt.ion() #??\n",
    "\n",
    "import numpy as np\n",
    "from sympy import *\n",
    "from IPython.display import *\n",
    "# init_printing(use_latex=True)\n",
    "\n",
    "%matplotlib inline"
   ]
  },
  {
   "cell_type": "markdown",
   "metadata": {},
   "source": [
    "Eksempler tar utgangspunkt i: https://arachnoid.com/IPython/normal_distribution.html\n",
    "men er utviddet med interact widgets"
   ]
  },
  {
   "cell_type": "markdown",
   "metadata": {},
   "source": [
    "## Normalfordelingen"
   ]
  },
  {
   "cell_type": "code",
   "execution_count": 3,
   "metadata": {
    "hide_input": true,
    "init_cell": true
   },
   "outputs": [
    {
     "data": {
      "text/plain": [
       "<matplotlib.figure.Figure at 0x248f1e82780>"
      ]
     },
     "metadata": {},
     "output_type": "display_data"
    }
   ],
   "source": [
    "fig = plt.gcf()\n",
    "fig.set_size_inches(8,5)\n",
    "var('a b x sigma mu')\n",
    "pdf = Lambda((x,mu,sigma),\n",
    "  (1/(sigma * sqrt(2*pi)) * exp(-(mu-x)**2 / (2*sigma**2)))\n",
    ")\n",
    "ltx = '$ pdf(x,\\\\mu,\\\\sigma) = \\\\frac{1}{ \\\\sigma' + \\\n",
    " '\\\\sqrt{2 \\\\pi}} e^{\\\\left(-\\\\frac{{\\\\left(\\\\mu - ' + \\\n",
    " 'x\\\\right)}^{2}}{2 \\\\, \\\\sigma^{2}}\\\\right)}$'"
   ]
  },
  {
   "cell_type": "code",
   "execution_count": 4,
   "metadata": {
    "collapsed": true,
    "hide_input": true,
    "init_cell": true
   },
   "outputs": [],
   "source": [
    "def plot_pdf(pdf=pdf,m=0,s=1):\n",
    "    x = np.linspace(-10,10,100)\n",
    "    y = np.array([pdf(v,m,s) for v in x],dtype='float')\n",
    "    plt.grid(True)\n",
    "    plt.title('Normalfordelingen')\n",
    "    plt.xlabel('IQ')\n",
    "    plt.ylabel('Y')    \n",
    "    plt.plot(x,y,color='gray')\n",
    "    plt.fill_between(x,y,0,color='#c0f0c0')\n",
    "    plt.show()"
   ]
  },
  {
   "cell_type": "code",
   "execution_count": 5,
   "metadata": {
    "code_folding": [],
    "hide_input": true,
    "init_cell": true
   },
   "outputs": [
    {
     "data": {
      "text/latex": [
       "$ pdf(x,\\mu,\\sigma) = \\frac{1}{ \\sigma\\sqrt{2 \\pi}} e^{\\left(-\\frac{{\\left(\\mu - x\\right)}^{2}}{2 \\, \\sigma^{2}}\\right)}$"
      ],
      "text/plain": [
       "<IPython.core.display.Latex object>"
      ]
     },
     "metadata": {},
     "output_type": "display_data"
    },
    {
     "data": {
      "application/vnd.jupyter.widget-view+json": {
       "model_id": "59f6e92668fa4a50ba5ed938ffd70f0d",
       "version_major": 2,
       "version_minor": 0
      },
      "text/html": [
       "<p>Failed to display Jupyter Widget of type <code>interactive</code>.</p>\n",
       "<p>\n",
       "  If you're reading this message in the Jupyter Notebook or JupyterLab Notebook, it may mean\n",
       "  that the widgets JavaScript is still loading. If this message persists, it\n",
       "  likely means that the widgets JavaScript library is either not installed or\n",
       "  not enabled. See the <a href=\"https://ipywidgets.readthedocs.io/en/stable/user_install.html\">Jupyter\n",
       "  Widgets Documentation</a> for setup instructions.\n",
       "</p>\n",
       "<p>\n",
       "  If you're reading this message in another frontend (for example, a static\n",
       "  rendering on GitHub or <a href=\"https://nbviewer.jupyter.org/\">NBViewer</a>),\n",
       "  it may mean that your frontend doesn't currently support widgets.\n",
       "</p>\n"
      ],
      "text/plain": [
       "interactive(children=(FloatSlider(value=0.0, continuous_update=False, description='$\\\\mu$', max=4.0, min=-4.0, readout_format='.1f'), FloatSlider(value=1.0, continuous_update=False, description='$\\\\sigma$', max=4.0, readout_format='.1f'), Output()), _dom_classes=('widget-interact',))"
      ]
     },
     "metadata": {},
     "output_type": "display_data"
    },
    {
     "data": {
      "text/plain": [
       "<function __main__.plot_pdf>"
      ]
     },
     "execution_count": 5,
     "metadata": {},
     "output_type": "execute_result"
    }
   ],
   "source": [
    "display(Latex(ltx))\n",
    "interact(plot_pdf, pdf=fixed(pdf),\n",
    "    m=FloatSlider(value=0.0,\n",
    "      min=-4.0,\n",
    "      max=4.0,\n",
    "      step=0.1,\n",
    "      description='$\\mu$',\n",
    "      disabled=False,\n",
    "      continuous_update=False,\n",
    "      orientation='horizontal',\n",
    "      readout=True,\n",
    "      readout_format='.1f'),\n",
    "    s=FloatSlider(value=1.0,\n",
    "      min=0,\n",
    "      max=4.0,\n",
    "      step=0.1,\n",
    "      description='$\\sigma$',\n",
    "      disabled=False,\n",
    "      continuous_update=False,\n",
    "      orientation='horizontal',\n",
    "      readout=True,\n",
    "      readout_format='.1f')\n",
    "    )"
   ]
  }
 ],
 "metadata": {
  "celltoolbar": "Initialization Cell",
  "hide_input": true,
  "kernelspec": {
   "display_name": "Python 3",
   "language": "python",
   "name": "python3"
  },
  "language_info": {
   "codemirror_mode": {
    "name": "ipython",
    "version": 3
   },
   "file_extension": ".py",
   "mimetype": "text/x-python",
   "name": "python",
   "nbconvert_exporter": "python",
   "pygments_lexer": "ipython3",
   "version": "3.5.4"
  }
 },
 "nbformat": 4,
 "nbformat_minor": 2
}
